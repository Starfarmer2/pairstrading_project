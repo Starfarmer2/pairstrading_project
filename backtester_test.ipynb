{
 "cells": [
  {
   "cell_type": "code",
   "execution_count": 1,
   "id": "9c9ea1e1",
   "metadata": {},
   "outputs": [],
   "source": [
    "from trader_class import PairsTrader\n",
    "from backtesting import Backtest\n",
    "import requests\n",
    "import pandas as pd\n",
    "import numpy as np\n",
    "import seaborn\n",
    "import matplotlib.pyplot as plt"
   ]
  },
  {
   "cell_type": "code",
   "execution_count": 2,
   "id": "e91c445c",
   "metadata": {},
   "outputs": [],
   "source": [
    "data = np.array([[1,2,3,4],\n",
    "                 [10.0,11.0,12.0,13.0],\n",
    "                 [10.0,11.0,12.0,13.0]])\n",
    "df = pd.DataFrame(data.transpose(), columns = ['time', 'price1', 'price2'])"
   ]
  },
  {
   "cell_type": "code",
   "execution_count": 3,
   "id": "c58b735c",
   "metadata": {},
   "outputs": [
    {
     "data": {
      "text/html": [
       "<div>\n",
       "<style scoped>\n",
       "    .dataframe tbody tr th:only-of-type {\n",
       "        vertical-align: middle;\n",
       "    }\n",
       "\n",
       "    .dataframe tbody tr th {\n",
       "        vertical-align: top;\n",
       "    }\n",
       "\n",
       "    .dataframe thead th {\n",
       "        text-align: right;\n",
       "    }\n",
       "</style>\n",
       "<table border=\"1\" class=\"dataframe\">\n",
       "  <thead>\n",
       "    <tr style=\"text-align: right;\">\n",
       "      <th></th>\n",
       "      <th>time</th>\n",
       "      <th>price1</th>\n",
       "      <th>price2</th>\n",
       "    </tr>\n",
       "  </thead>\n",
       "  <tbody>\n",
       "    <tr>\n",
       "      <th>0</th>\n",
       "      <td>1.0</td>\n",
       "      <td>10.0</td>\n",
       "      <td>10.0</td>\n",
       "    </tr>\n",
       "    <tr>\n",
       "      <th>1</th>\n",
       "      <td>2.0</td>\n",
       "      <td>11.0</td>\n",
       "      <td>11.0</td>\n",
       "    </tr>\n",
       "    <tr>\n",
       "      <th>2</th>\n",
       "      <td>3.0</td>\n",
       "      <td>12.0</td>\n",
       "      <td>12.0</td>\n",
       "    </tr>\n",
       "    <tr>\n",
       "      <th>3</th>\n",
       "      <td>4.0</td>\n",
       "      <td>13.0</td>\n",
       "      <td>13.0</td>\n",
       "    </tr>\n",
       "  </tbody>\n",
       "</table>\n",
       "</div>"
      ],
      "text/plain": [
       "   time  price1  price2\n",
       "0   1.0    10.0    10.0\n",
       "1   2.0    11.0    11.0\n",
       "2   3.0    12.0    12.0\n",
       "3   4.0    13.0    13.0"
      ]
     },
     "execution_count": 3,
     "metadata": {},
     "output_type": "execute_result"
    }
   ],
   "source": [
    "df"
   ]
  },
  {
   "cell_type": "code",
   "execution_count": 21,
   "id": "f206aedb",
   "metadata": {},
   "outputs": [],
   "source": [
    "class trader:\n",
    "    def makeTrades(prices):\n",
    "        return {'price1': -1,'price2': -1}  #buy, buy"
   ]
  },
  {
   "cell_type": "code",
   "execution_count": 22,
   "id": "a8dd8241",
   "metadata": {},
   "outputs": [
    {
     "data": {
      "text/plain": [
       "([19.96, 21.956, 23.951999999999998, 25.948],\n",
       " 91.816,\n",
       "    time  price1  price2\n",
       " 0     0      -1      -1\n",
       " 1     1      -1      -1\n",
       " 2     2      -1      -1\n",
       " 3     3      -1      -1)"
      ]
     },
     "execution_count": 22,
     "metadata": {},
     "output_type": "execute_result"
    }
   ],
   "source": [
    "backtester = Backtest(trader,df)\n",
    "backtest_results = backtester.run_game()\n",
    "backtest_results"
   ]
  },
  {
   "cell_type": "code",
   "execution_count": 25,
   "id": "30bb0eb8",
   "metadata": {},
   "outputs": [],
   "source": [
    "fees = (df['price1']+df['price2']-backtest_results[0])/(df['price1']+df['price2'])*100"
   ]
  },
  {
   "cell_type": "code",
   "execution_count": 26,
   "id": "dd5c6c9f",
   "metadata": {},
   "outputs": [
    {
     "data": {
      "text/plain": [
       "0    0.2\n",
       "1    0.2\n",
       "2    0.2\n",
       "3    0.2\n",
       "dtype: float64"
      ]
     },
     "execution_count": 26,
     "metadata": {},
     "output_type": "execute_result"
    }
   ],
   "source": [
    "fees"
   ]
  },
  {
   "cell_type": "code",
   "execution_count": null,
   "id": "b693447a",
   "metadata": {},
   "outputs": [],
   "source": []
  }
 ],
 "metadata": {
  "kernelspec": {
   "display_name": "Python 3 (ipykernel)",
   "language": "python",
   "name": "python3"
  },
  "language_info": {
   "codemirror_mode": {
    "name": "ipython",
    "version": 3
   },
   "file_extension": ".py",
   "mimetype": "text/x-python",
   "name": "python",
   "nbconvert_exporter": "python",
   "pygments_lexer": "ipython3",
   "version": "3.9.12"
  }
 },
 "nbformat": 4,
 "nbformat_minor": 5
}
