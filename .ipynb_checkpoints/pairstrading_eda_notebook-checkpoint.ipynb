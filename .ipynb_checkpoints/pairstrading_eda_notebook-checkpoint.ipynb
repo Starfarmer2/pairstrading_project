{
 "cells": [
  {
   "cell_type": "code",
   "execution_count": 3,
   "id": "2cd8fab8",
   "metadata": {},
   "outputs": [],
   "source": [
    "import requests\n",
    "import pandas as pd\n",
    "import numpy as np\n",
    "import seaborn\n",
    "import statsmodels.api as sm\n",
    "from scipy.optimize import minimize_scalar"
   ]
  },
  {
   "cell_type": "code",
   "execution_count": 4,
   "id": "29052395",
   "metadata": {},
   "outputs": [],
   "source": [
    "url = 'https://data.binance.com'\n",
    "klines_url = '/api/v3/klines'\n",
    "time_url = '/api/v3/time'"
   ]
  },
  {
   "cell_type": "code",
   "execution_count": 5,
   "id": "9b5ef3ca",
   "metadata": {},
   "outputs": [],
   "source": [
    "symbol1 = 'BTCUSDT'\n",
    "symbol2 = 'ETHUSDT'\n",
    "interval = '1w'  #HOURLY\n",
    "limit = 1000\n"
   ]
  },
  {
   "cell_type": "code",
   "execution_count": 6,
   "id": "dd7296fd",
   "metadata": {},
   "outputs": [],
   "source": [
    "params1 = {'symbol': symbol1, 'interval': interval, 'limit': limit}\n",
    "params2 = {'symbol': symbol2, 'interval': interval, 'limit': limit}\n",
    "\n",
    "# kline data format\n",
    "#   [\n",
    "#     1499040000000,      // Kline open time\n",
    "#     \"0.01634790\",       // Open price\n",
    "#     \"0.80000000\",       // High price\n",
    "#     \"0.01575800\",       // Low price\n",
    "#     \"0.01577100\",       // Close price\n",
    "#     \"148976.11427815\",  // Volume\n",
    "#     1499644799999,      // Kline Close time\n",
    "#     \"2434.19055334\",    // Quote asset volume\n",
    "#     308,                // Number of trades\n",
    "#     \"1756.87402397\",    // Taker buy base asset volume\n",
    "#     \"28.46694368\",      // Taker buy quote asset volume\n",
    "#     \"0\"                 // Unused field, ignore.\n",
    "#   ]\n",
    "\n",
    "klines1 = requests.get(url+klines_url, params1).json()\n",
    "klines2 = requests.get(url+klines_url, params2).json()"
   ]
  },
  {
   "cell_type": "code",
   "execution_count": null,
   "id": "e804c66e",
   "metadata": {},
   "outputs": [],
   "source": []
  },
  {
   "cell_type": "code",
   "execution_count": 7,
   "id": "058ac31d",
   "metadata": {},
   "outputs": [],
   "source": [
    "klines_df1 = pd.DataFrame(np.array(klines1), columns=['open_time','open_price','high_price','low_price','close_price','volume','close_time','quote_asset_volume','number_of_trades','taker_buy_base_asset_volume','taker_buy_quote_asset_volume','unused'])\n",
    "klines_df2 = pd.DataFrame(np.array(klines2), columns=['open_time','open_price','high_price','low_price','close_price','volume','close_time','quote_asset_volume','number_of_trades','taker_buy_base_asset_volume','taker_buy_quote_asset_volume','unused'])\n",
    "\n",
    "\n"
   ]
  },
  {
   "cell_type": "code",
   "execution_count": null,
   "id": "d9d19f2c",
   "metadata": {},
   "outputs": [],
   "source": []
  },
  {
   "cell_type": "code",
   "execution_count": 8,
   "id": "ae1da2bd",
   "metadata": {},
   "outputs": [
    {
     "data": {
      "text/html": [
       "<div>\n",
       "<style scoped>\n",
       "    .dataframe tbody tr th:only-of-type {\n",
       "        vertical-align: middle;\n",
       "    }\n",
       "\n",
       "    .dataframe tbody tr th {\n",
       "        vertical-align: top;\n",
       "    }\n",
       "\n",
       "    .dataframe thead th {\n",
       "        text-align: right;\n",
       "    }\n",
       "</style>\n",
       "<table border=\"1\" class=\"dataframe\">\n",
       "  <thead>\n",
       "    <tr style=\"text-align: right;\">\n",
       "      <th></th>\n",
       "      <th>open_time</th>\n",
       "      <th>open_price</th>\n",
       "      <th>high_price</th>\n",
       "      <th>low_price</th>\n",
       "      <th>close_price</th>\n",
       "      <th>volume</th>\n",
       "      <th>close_time</th>\n",
       "      <th>quote_asset_volume</th>\n",
       "      <th>number_of_trades</th>\n",
       "      <th>taker_buy_base_asset_volume</th>\n",
       "      <th>taker_buy_quote_asset_volume</th>\n",
       "      <th>unused</th>\n",
       "    </tr>\n",
       "  </thead>\n",
       "  <tbody>\n",
       "    <tr>\n",
       "      <th>0</th>\n",
       "      <td>1502668800000</td>\n",
       "      <td>4261.48000000</td>\n",
       "      <td>4485.39000000</td>\n",
       "      <td>3850.00000000</td>\n",
       "      <td>4086.29000000</td>\n",
       "      <td>2843.43142600</td>\n",
       "      <td>1503273599999</td>\n",
       "      <td>12021576.48265154</td>\n",
       "      <td>13134</td>\n",
       "      <td>2240.24924000</td>\n",
       "      <td>9482742.92094674</td>\n",
       "      <td>0</td>\n",
       "    </tr>\n",
       "    <tr>\n",
       "      <th>1</th>\n",
       "      <td>1503273600000</td>\n",
       "      <td>4069.13000000</td>\n",
       "      <td>4453.91000000</td>\n",
       "      <td>3400.00000000</td>\n",
       "      <td>4310.01000000</td>\n",
       "      <td>4599.39662900</td>\n",
       "      <td>1503878399999</td>\n",
       "      <td>18978983.50987317</td>\n",
       "      <td>37826</td>\n",
       "      <td>1755.53026500</td>\n",
       "      <td>7173180.19744751</td>\n",
       "      <td>0</td>\n",
       "    </tr>\n",
       "    <tr>\n",
       "      <th>2</th>\n",
       "      <td>1503878400000</td>\n",
       "      <td>4310.01000000</td>\n",
       "      <td>4939.19000000</td>\n",
       "      <td>4124.54000000</td>\n",
       "      <td>4509.08000000</td>\n",
       "      <td>4753.84337600</td>\n",
       "      <td>1504483199999</td>\n",
       "      <td>21581679.92866748</td>\n",
       "      <td>35717</td>\n",
       "      <td>1371.03442800</td>\n",
       "      <td>6237542.20612072</td>\n",
       "      <td>0</td>\n",
       "    </tr>\n",
       "    <tr>\n",
       "      <th>3</th>\n",
       "      <td>1504483200000</td>\n",
       "      <td>4505.00000000</td>\n",
       "      <td>4788.59000000</td>\n",
       "      <td>3603.00000000</td>\n",
       "      <td>4130.37000000</td>\n",
       "      <td>6382.78774500</td>\n",
       "      <td>1505087999999</td>\n",
       "      <td>27307824.36893929</td>\n",
       "      <td>42372</td>\n",
       "      <td>2821.42273900</td>\n",
       "      <td>12120979.77068529</td>\n",
       "      <td>0</td>\n",
       "    </tr>\n",
       "    <tr>\n",
       "      <th>4</th>\n",
       "      <td>1505088000000</td>\n",
       "      <td>4153.62000000</td>\n",
       "      <td>4394.59000000</td>\n",
       "      <td>2817.00000000</td>\n",
       "      <td>3699.99000000</td>\n",
       "      <td>8106.70512700</td>\n",
       "      <td>1505692799999</td>\n",
       "      <td>30026796.42861788</td>\n",
       "      <td>50423</td>\n",
       "      <td>3763.12845200</td>\n",
       "      <td>13956149.18844029</td>\n",
       "      <td>0</td>\n",
       "    </tr>\n",
       "    <tr>\n",
       "      <th>...</th>\n",
       "      <td>...</td>\n",
       "      <td>...</td>\n",
       "      <td>...</td>\n",
       "      <td>...</td>\n",
       "      <td>...</td>\n",
       "      <td>...</td>\n",
       "      <td>...</td>\n",
       "      <td>...</td>\n",
       "      <td>...</td>\n",
       "      <td>...</td>\n",
       "      <td>...</td>\n",
       "      <td>...</td>\n",
       "    </tr>\n",
       "    <tr>\n",
       "      <th>290</th>\n",
       "      <td>1678060800000</td>\n",
       "      <td>22430.24000000</td>\n",
       "      <td>22602.19000000</td>\n",
       "      <td>19549.09000000</td>\n",
       "      <td>21997.11000000</td>\n",
       "      <td>2718623.72856000</td>\n",
       "      <td>1678665599999</td>\n",
       "      <td>57109899451.56409940</td>\n",
       "      <td>64620831</td>\n",
       "      <td>1355463.88360000</td>\n",
       "      <td>28476826765.34023100</td>\n",
       "      <td>0</td>\n",
       "    </tr>\n",
       "    <tr>\n",
       "      <th>291</th>\n",
       "      <td>1678665600000</td>\n",
       "      <td>21998.05000000</td>\n",
       "      <td>28390.10000000</td>\n",
       "      <td>21813.88000000</td>\n",
       "      <td>27972.87000000</td>\n",
       "      <td>3775888.94983000</td>\n",
       "      <td>1679270399999</td>\n",
       "      <td>95305973200.80874100</td>\n",
       "      <td>85715723</td>\n",
       "      <td>1901884.34275000</td>\n",
       "      <td>48013500988.60253510</td>\n",
       "      <td>0</td>\n",
       "    </tr>\n",
       "    <tr>\n",
       "      <th>292</th>\n",
       "      <td>1679270400000</td>\n",
       "      <td>27972.87000000</td>\n",
       "      <td>28868.05000000</td>\n",
       "      <td>26601.80000000</td>\n",
       "      <td>27968.05000000</td>\n",
       "      <td>1437828.84706000</td>\n",
       "      <td>1679875199999</td>\n",
       "      <td>40105785082.65465400</td>\n",
       "      <td>32723292</td>\n",
       "      <td>717790.29856000</td>\n",
       "      <td>20023774476.44784700</td>\n",
       "      <td>0</td>\n",
       "    </tr>\n",
       "    <tr>\n",
       "      <th>293</th>\n",
       "      <td>1679875200000</td>\n",
       "      <td>27968.05000000</td>\n",
       "      <td>29184.68000000</td>\n",
       "      <td>26508.14000000</td>\n",
       "      <td>28171.87000000</td>\n",
       "      <td>500795.73087000</td>\n",
       "      <td>1680479999999</td>\n",
       "      <td>13977682781.95106290</td>\n",
       "      <td>9943708</td>\n",
       "      <td>249671.68717000</td>\n",
       "      <td>6970335432.82718160</td>\n",
       "      <td>0</td>\n",
       "    </tr>\n",
       "    <tr>\n",
       "      <th>294</th>\n",
       "      <td>1680480000000</td>\n",
       "      <td>28171.87000000</td>\n",
       "      <td>28775.00000000</td>\n",
       "      <td>27200.24000000</td>\n",
       "      <td>27900.14000000</td>\n",
       "      <td>251677.78673000</td>\n",
       "      <td>1681084799999</td>\n",
       "      <td>7067284336.06251620</td>\n",
       "      <td>5522779</td>\n",
       "      <td>126098.49670000</td>\n",
       "      <td>3541425537.41119610</td>\n",
       "      <td>0</td>\n",
       "    </tr>\n",
       "  </tbody>\n",
       "</table>\n",
       "<p>295 rows × 12 columns</p>\n",
       "</div>"
      ],
      "text/plain": [
       "         open_time      open_price      high_price       low_price  \\\n",
       "0    1502668800000   4261.48000000   4485.39000000   3850.00000000   \n",
       "1    1503273600000   4069.13000000   4453.91000000   3400.00000000   \n",
       "2    1503878400000   4310.01000000   4939.19000000   4124.54000000   \n",
       "3    1504483200000   4505.00000000   4788.59000000   3603.00000000   \n",
       "4    1505088000000   4153.62000000   4394.59000000   2817.00000000   \n",
       "..             ...             ...             ...             ...   \n",
       "290  1678060800000  22430.24000000  22602.19000000  19549.09000000   \n",
       "291  1678665600000  21998.05000000  28390.10000000  21813.88000000   \n",
       "292  1679270400000  27972.87000000  28868.05000000  26601.80000000   \n",
       "293  1679875200000  27968.05000000  29184.68000000  26508.14000000   \n",
       "294  1680480000000  28171.87000000  28775.00000000  27200.24000000   \n",
       "\n",
       "        close_price            volume     close_time    quote_asset_volume  \\\n",
       "0     4086.29000000     2843.43142600  1503273599999     12021576.48265154   \n",
       "1     4310.01000000     4599.39662900  1503878399999     18978983.50987317   \n",
       "2     4509.08000000     4753.84337600  1504483199999     21581679.92866748   \n",
       "3     4130.37000000     6382.78774500  1505087999999     27307824.36893929   \n",
       "4     3699.99000000     8106.70512700  1505692799999     30026796.42861788   \n",
       "..              ...               ...            ...                   ...   \n",
       "290  21997.11000000  2718623.72856000  1678665599999  57109899451.56409940   \n",
       "291  27972.87000000  3775888.94983000  1679270399999  95305973200.80874100   \n",
       "292  27968.05000000  1437828.84706000  1679875199999  40105785082.65465400   \n",
       "293  28171.87000000   500795.73087000  1680479999999  13977682781.95106290   \n",
       "294  27900.14000000   251677.78673000  1681084799999   7067284336.06251620   \n",
       "\n",
       "    number_of_trades taker_buy_base_asset_volume taker_buy_quote_asset_volume  \\\n",
       "0              13134               2240.24924000             9482742.92094674   \n",
       "1              37826               1755.53026500             7173180.19744751   \n",
       "2              35717               1371.03442800             6237542.20612072   \n",
       "3              42372               2821.42273900            12120979.77068529   \n",
       "4              50423               3763.12845200            13956149.18844029   \n",
       "..               ...                         ...                          ...   \n",
       "290         64620831            1355463.88360000         28476826765.34023100   \n",
       "291         85715723            1901884.34275000         48013500988.60253510   \n",
       "292         32723292             717790.29856000         20023774476.44784700   \n",
       "293          9943708             249671.68717000          6970335432.82718160   \n",
       "294          5522779             126098.49670000          3541425537.41119610   \n",
       "\n",
       "    unused  \n",
       "0        0  \n",
       "1        0  \n",
       "2        0  \n",
       "3        0  \n",
       "4        0  \n",
       "..     ...  \n",
       "290      0  \n",
       "291      0  \n",
       "292      0  \n",
       "293      0  \n",
       "294      0  \n",
       "\n",
       "[295 rows x 12 columns]"
      ]
     },
     "execution_count": 8,
     "metadata": {},
     "output_type": "execute_result"
    }
   ],
   "source": [
    "klines_df_f1 = pd.DataFrame(klines_df1,dtype='float64')\n",
    "klines_df_f2 = pd.DataFrame(klines_df2,dtype='float64')\n",
    "klines_df1"
   ]
  },
  {
   "cell_type": "code",
   "execution_count": 9,
   "id": "5f18403a",
   "metadata": {},
   "outputs": [
    {
     "data": {
      "text/plain": [
       "0     -0.006741\n",
       "1      0.163925\n",
       "2     -0.018213\n",
       "3     -0.134958\n",
       "4     -0.122517\n",
       "         ...   \n",
       "290    0.010073\n",
       "291    0.126777\n",
       "292   -0.003813\n",
       "293    0.011630\n",
       "294    0.034004\n",
       "Name: return, Length: 295, dtype: float64"
      ]
     },
     "execution_count": 9,
     "metadata": {},
     "output_type": "execute_result"
    }
   ],
   "source": [
    "klines_df_f1['return'] = (klines_df_f1['close_price']-klines_df_f1['open_price'])/klines_df_f1['open_price']\n",
    "klines_df_f1['return_next'] = klines_df_f1['return'].shift(-1)\n",
    "klines_df_f1['open_time_year'] = klines_df_f1['open_time']/1000/3600/24/365\n",
    "klines_df_f1['return']\n",
    "\n",
    "klines_df_f2['return'] = (klines_df_f2['close_price']-klines_df_f2['open_price'])/klines_df_f2['open_price']\n",
    "klines_df_f2['return_next'] = klines_df_f2['return'].shift(-1)\n",
    "klines_df_f2['open_time_year'] = klines_df_f2['open_time']/1000/3600/24/365\n",
    "klines_df_f2['return']"
   ]
  },
  {
   "cell_type": "code",
   "execution_count": 10,
   "id": "d0582e93",
   "metadata": {},
   "outputs": [
    {
     "data": {
      "text/html": [
       "<div>\n",
       "<style scoped>\n",
       "    .dataframe tbody tr th:only-of-type {\n",
       "        vertical-align: middle;\n",
       "    }\n",
       "\n",
       "    .dataframe tbody tr th {\n",
       "        vertical-align: top;\n",
       "    }\n",
       "\n",
       "    .dataframe thead th {\n",
       "        text-align: right;\n",
       "    }\n",
       "</style>\n",
       "<table border=\"1\" class=\"dataframe\">\n",
       "  <thead>\n",
       "    <tr style=\"text-align: right;\">\n",
       "      <th></th>\n",
       "      <th>btc</th>\n",
       "      <th>eth</th>\n",
       "    </tr>\n",
       "  </thead>\n",
       "  <tbody>\n",
       "    <tr>\n",
       "      <th>0</th>\n",
       "      <td>-0.041110</td>\n",
       "      <td>-0.006741</td>\n",
       "    </tr>\n",
       "    <tr>\n",
       "      <th>1</th>\n",
       "      <td>0.059197</td>\n",
       "      <td>0.163925</td>\n",
       "    </tr>\n",
       "    <tr>\n",
       "      <th>2</th>\n",
       "      <td>0.046188</td>\n",
       "      <td>-0.018213</td>\n",
       "    </tr>\n",
       "    <tr>\n",
       "      <th>3</th>\n",
       "      <td>-0.083159</td>\n",
       "      <td>-0.134958</td>\n",
       "    </tr>\n",
       "    <tr>\n",
       "      <th>4</th>\n",
       "      <td>-0.109213</td>\n",
       "      <td>-0.122517</td>\n",
       "    </tr>\n",
       "    <tr>\n",
       "      <th>...</th>\n",
       "      <td>...</td>\n",
       "      <td>...</td>\n",
       "    </tr>\n",
       "    <tr>\n",
       "      <th>290</th>\n",
       "      <td>-0.019310</td>\n",
       "      <td>0.010073</td>\n",
       "    </tr>\n",
       "    <tr>\n",
       "      <th>291</th>\n",
       "      <td>0.271607</td>\n",
       "      <td>0.126777</td>\n",
       "    </tr>\n",
       "    <tr>\n",
       "      <th>292</th>\n",
       "      <td>-0.000172</td>\n",
       "      <td>-0.003813</td>\n",
       "    </tr>\n",
       "    <tr>\n",
       "      <th>293</th>\n",
       "      <td>0.007288</td>\n",
       "      <td>0.011630</td>\n",
       "    </tr>\n",
       "    <tr>\n",
       "      <th>294</th>\n",
       "      <td>-0.009645</td>\n",
       "      <td>0.034004</td>\n",
       "    </tr>\n",
       "  </tbody>\n",
       "</table>\n",
       "<p>295 rows × 2 columns</p>\n",
       "</div>"
      ],
      "text/plain": [
       "          btc       eth\n",
       "0   -0.041110 -0.006741\n",
       "1    0.059197  0.163925\n",
       "2    0.046188 -0.018213\n",
       "3   -0.083159 -0.134958\n",
       "4   -0.109213 -0.122517\n",
       "..        ...       ...\n",
       "290 -0.019310  0.010073\n",
       "291  0.271607  0.126777\n",
       "292 -0.000172 -0.003813\n",
       "293  0.007288  0.011630\n",
       "294 -0.009645  0.034004\n",
       "\n",
       "[295 rows x 2 columns]"
      ]
     },
     "execution_count": 10,
     "metadata": {},
     "output_type": "execute_result"
    }
   ],
   "source": [
    "returns_df = pd.DataFrame(np.array([klines_df_f1['return'],klines_df_f2['return']]).transpose(),columns=['btc','eth'])\n",
    "returns_df"
   ]
  },
  {
   "cell_type": "code",
   "execution_count": 11,
   "id": "b1d5f022",
   "metadata": {},
   "outputs": [
    {
     "data": {
      "text/plain": [
       "<AxesSubplot:xlabel='btc', ylabel='eth'>"
      ]
     },
     "execution_count": 11,
     "metadata": {},
     "output_type": "execute_result"
    },
    {
     "data": {
      "image/png": "[encoded data removed]",
      "text/plain": [
       "<Figure size 640x480 with 1 Axes>"
      ]
     },
     "metadata": {},
     "output_type": "display_data"
    }
   ],
   "source": [
    "seaborn.scatterplot(data=returns_df,x='btc',y='eth',s=5,color='b')"
   ]
  },
  {
   "cell_type": "code",
   "execution_count": 12,
   "id": "ca0db201",
   "metadata": {},
   "outputs": [
    {
     "data": {
      "text/plain": [
       "<AxesSubplot:xlabel='return', ylabel='return_next'>"
      ]
     },
     "execution_count": 12,
     "metadata": {},
     "output_type": "execute_result"
    },
    {
     "data": {
      "image/png": "[encoded data removed]",
      "text/plain": [
       "<Figure size 640x480 with 1 Axes>"
      ]
     },
     "metadata": {},
     "output_type": "display_data"
    }
   ],
   "source": [
    "seaborn.scatterplot(data=klines_df_f2,x='return',y='return_next',s=5,color='b')"
   ]
  },
  {
   "cell_type": "code",
   "execution_count": 13,
   "id": "c1a2099c",
   "metadata": {},
   "outputs": [
    {
     "data": {
      "text/plain": [
       "(-1.2714194896088402,\n",
       " 0.6421444162072906,\n",
       " 15,\n",
       " 279,\n",
       " {'1%': -3.4540076534999957,\n",
       "  '5%': -2.8719557347997178,\n",
       "  '10%': -2.5723200648758366},\n",
       " 5167.952301389704)"
      ]
     },
     "execution_count": 13,
     "metadata": {},
     "output_type": "execute_result"
    }
   ],
   "source": [
    "# f1 price nonstationary\n",
    "sm.tsa.stattools.adfuller(klines_df_f1['open_price'])"
   ]
  },
  {
   "cell_type": "code",
   "execution_count": 14,
   "id": "543db73d",
   "metadata": {},
   "outputs": [
    {
     "data": {
      "text/plain": [
       "(-1.583320862635458,\n",
       " 0.4919663564749226,\n",
       " 4,\n",
       " 290,\n",
       " {'1%': -3.453102162983312,\n",
       "  '5%': -2.871558538275452,\n",
       "  '10%': -2.5721082282996433},\n",
       " 3744.5229266524398)"
      ]
     },
     "execution_count": 14,
     "metadata": {},
     "output_type": "execute_result"
    }
   ],
   "source": [
    "# f2 price nonstationary\n",
    "sm.tsa.stattools.adfuller(klines_df_f2['open_price'])"
   ]
  },
  {
   "cell_type": "code",
   "execution_count": 15,
   "id": "f42c842f",
   "metadata": {},
   "outputs": [
    {
     "data": {
      "text/plain": [
       "(-15.620447778072583,\n",
       " 1.7345815030900776e-28,\n",
       " 0,\n",
       " 294,\n",
       " {'1%': -3.452789844280995,\n",
       "  '5%': -2.871421512222641,\n",
       "  '10%': -2.5720351510944512},\n",
       " -473.983562862481)"
      ]
     },
     "execution_count": 15,
     "metadata": {},
     "output_type": "execute_result"
    }
   ],
   "source": [
    "# f1 return stationary\n",
    "sm.tsa.stattools.adfuller(klines_df_f1['return'])"
   ]
  },
  {
   "cell_type": "code",
   "execution_count": 16,
   "id": "73b8020b",
   "metadata": {},
   "outputs": [
    {
     "data": {
      "text/plain": [
       "(-15.633420172350277,\n",
       " 1.6744215374125554e-28,\n",
       " 0,\n",
       " 294,\n",
       " {'1%': -3.452789844280995,\n",
       "  '5%': -2.871421512222641,\n",
       "  '10%': -2.5720351510944512},\n",
       " -300.75950384921475)"
      ]
     },
     "execution_count": 16,
     "metadata": {},
     "output_type": "execute_result"
    }
   ],
   "source": [
    "# f2 return stationary\n",
    "sm.tsa.stattools.adfuller(klines_df_f2['return'])"
   ]
  },
  {
   "cell_type": "code",
   "execution_count": 17,
   "id": "cef20276",
   "metadata": {},
   "outputs": [
    {
     "ename": "NameError",
     "evalue": "name 'statsmodels' is not defined",
     "output_type": "error",
     "traceback": [
      "\u001b[0;31m---------------------------------------------------------------------------\u001b[0m",
      "\u001b[0;31mNameError\u001b[0m                                 Traceback (most recent call last)",
      "Cell \u001b[0;32mIn [17], line 2\u001b[0m\n\u001b[1;32m      1\u001b[0m \u001b[38;5;66;03m# Johansen test\u001b[39;00m\n\u001b[0;32m----> 2\u001b[0m jt \u001b[38;5;241m=\u001b[39m statsmodels\u001b[38;5;241m.\u001b[39mtsa\u001b[38;5;241m.\u001b[39mvector_ar\u001b[38;5;241m.\u001b[39mvecm\u001b[38;5;241m.\u001b[39mcoint_johansen(np\u001b[38;5;241m.\u001b[39marray([klines_df_f1[\u001b[38;5;124m'\u001b[39m\u001b[38;5;124mopen_price\u001b[39m\u001b[38;5;124m'\u001b[39m],klines_df_f2[\u001b[38;5;124m'\u001b[39m\u001b[38;5;124mopen_price\u001b[39m\u001b[38;5;124m'\u001b[39m]])\u001b[38;5;241m.\u001b[39mtranspose(),det_order\u001b[38;5;241m=\u001b[39m\u001b[38;5;241m0\u001b[39m,k_ar_diff\u001b[38;5;241m=\u001b[39m\u001b[38;5;241m1\u001b[39m)\n\u001b[1;32m      3\u001b[0m \u001b[38;5;28mprint\u001b[39m(\u001b[38;5;124mf\u001b[39m\u001b[38;5;124m'\u001b[39m\u001b[38;5;124mCritical Value Eigen: \u001b[39m\u001b[38;5;130;01m\\n\u001b[39;00m\u001b[38;5;132;01m{\u001b[39;00mjt\u001b[38;5;241m.\u001b[39mcvm\u001b[38;5;132;01m}\u001b[39;00m\u001b[38;5;130;01m\\n\u001b[39;00m\u001b[38;5;124mCritical Value Trace: \u001b[39m\u001b[38;5;130;01m\\n\u001b[39;00m\u001b[38;5;132;01m{\u001b[39;00mjt\u001b[38;5;241m.\u001b[39mcvt\u001b[38;5;132;01m}\u001b[39;00m\u001b[38;5;130;01m\\n\u001b[39;00m\u001b[38;5;124m'\u001b[39m)\n\u001b[1;32m      4\u001b[0m \u001b[38;5;28mprint\u001b[39m(\u001b[38;5;124mf\u001b[39m\u001b[38;5;124m'\u001b[39m\u001b[38;5;124mtrace stats: \u001b[39m\u001b[38;5;130;01m\\n\u001b[39;00m\u001b[38;5;132;01m{\u001b[39;00mjt\u001b[38;5;241m.\u001b[39mtrace_stat\u001b[38;5;132;01m}\u001b[39;00m\u001b[38;5;124m'\u001b[39m)\n",
      "\u001b[0;31mNameError\u001b[0m: name 'statsmodels' is not defined"
     ]
    }
   ],
   "source": [
    "# Johansen test\n",
    "jt = statsmodels.tsa.vector_ar.vecm.coint_johansen(np.array([klines_df_f1['open_price'],klines_df_f2['open_price']]).transpose(),det_order=0,k_ar_diff=1)\n",
    "print(f'Critical Value Eigen: \\n{jt.cvm}\\nCritical Value Trace: \\n{jt.cvt}\\n')\n",
    "print(f'trace stats: \\n{jt.trace_stat}')\n",
    "                                              "
   ]
  },
  {
   "cell_type": "code",
   "execution_count": 18,
   "id": "c0e0fa13",
   "metadata": {},
   "outputs": [],
   "source": [
    "# Spread\n",
    "df_p1 = klines_df_f1['open_price']\n",
    "df_p2 = klines_df_f2['open_price']\n",
    "\n",
    "def spread(p1, p2, n):\n",
    "    psum = p1-p2*n\n",
    "    return np.dot(psum,psum)"
   ]
  },
  {
   "cell_type": "code",
   "execution_count": 19,
   "id": "568c59ea",
   "metadata": {},
   "outputs": [
    {
     "data": {
      "text/plain": [
       "     fun: 15079126049.130743\n",
       " message: '\\nOptimization terminated successfully;\\nThe returned value satisfies the termination criteria\\n(using xtol = 1.48e-08 )'\n",
       "    nfev: 10\n",
       "     nit: 4\n",
       " success: True\n",
       "       x: 15.284461080659117"
      ]
     },
     "execution_count": 19,
     "metadata": {},
     "output_type": "execute_result"
    }
   ],
   "source": [
    "scalar_results = minimize_scalar(lambda n: spread(df_p1,df_p2, n))\n",
    "N = scalar_results.x\n",
    "scalar_results"
   ]
  },
  {
   "cell_type": "code",
   "execution_count": 20,
   "id": "37f93e48",
   "metadata": {},
   "outputs": [
    {
     "data": {
      "text/plain": [
       "<AxesSubplot:xlabel='open_time', ylabel='price'>"
      ]
     },
     "execution_count": 20,
     "metadata": {},
     "output_type": "execute_result"
    },
    {
     "data": {
      "image/png": "[encoded data removed]",
      "text/plain": [
       "<Figure size 640x480 with 1 Axes>"
      ]
     },
     "metadata": {},
     "output_type": "display_data"
    }
   ],
   "source": [
    "graph_df = pd.DataFrame(np.array([klines_df_f1['open_time'],klines_df_f1['open_price'] - N * klines_df_f2['open_price']]).transpose(),columns = ['open_time','price'])\n",
    "seaborn.scatterplot(data=graph_df,x='open_time',y='price',s=5,color='b')\n",
    "\n"
   ]
  },
  {
   "cell_type": "code",
   "execution_count": 21,
   "id": "c3f50130",
   "metadata": {},
   "outputs": [
    {
     "data": {
      "text/plain": [
       "<AxesSubplot:xlabel='open_time', ylabel='open_price'>"
      ]
     },
     "execution_count": 21,
     "metadata": {},
     "output_type": "execute_result"
    },
    {
     "data": {
      "image/png": "[encoded data removed]",
      "text/plain": [
       "<Figure size 640x480 with 1 Axes>"
      ]
     },
     "metadata": {},
     "output_type": "display_data"
    }
   ],
   "source": [
    "seaborn.scatterplot(data=klines_df_f1,x='open_time',y='open_price',s=5,color='b')\n",
    "scaled_klines_df_f2 = klines_df_f2.copy()\n",
    "scaled_klines_df_f2['open_price'] = klines_df_f2['open_price'] * N\n",
    "seaborn.scatterplot(data=scaled_klines_df_f2,x='open_time',y='open_price',s=5,color='r')\n"
   ]
  },
  {
   "cell_type": "code",
   "execution_count": 182,
   "id": "e9171fba",
   "metadata": {},
   "outputs": [
    {
     "data": {
      "text/plain": [
       "0      28069.00\n",
       "1      28055.27\n",
       "2      28039.50\n",
       "3      28054.93\n",
       "4      28054.92\n",
       "         ...   \n",
       "995    28005.90\n",
       "996    28005.75\n",
       "997    28005.31\n",
       "998    28005.70\n",
       "999    28005.70\n",
       "Name: open_price, Length: 1000, dtype: float64"
      ]
     },
     "execution_count": 182,
     "metadata": {},
     "output_type": "execute_result"
    }
   ],
   "source": [
    "klines_df_f1['open_price']"
   ]
  },
  {
   "cell_type": "code",
   "execution_count": 183,
   "id": "3020bd80",
   "metadata": {},
   "outputs": [
    {
     "data": {
      "text/plain": [
       "0      1892.20\n",
       "1      1891.74\n",
       "2      1891.26\n",
       "3      1892.27\n",
       "4      1892.43\n",
       "        ...   \n",
       "995    1871.47\n",
       "996    1870.80\n",
       "997    1871.29\n",
       "998    1871.69\n",
       "999    1871.50\n",
       "Name: open_price, Length: 1000, dtype: float64"
      ]
     },
     "execution_count": 183,
     "metadata": {},
     "output_type": "execute_result"
    }
   ],
   "source": [
    "klines_df_f2['open_price']"
   ]
  },
  {
   "cell_type": "code",
   "execution_count": null,
   "id": "011d6655",
   "metadata": {},
   "outputs": [],
   "source": []
  }
 ],
 "metadata": {
  "kernelspec": {
   "display_name": "Python 3 (ipykernel)",
   "language": "python",
   "name": "python3"
  },
  "language_info": {
   "codemirror_mode": {
    "name": "ipython",
    "version": 3
   },
   "file_extension": ".py",
   "mimetype": "text/x-python",
   "name": "python",
   "nbconvert_exporter": "python",
   "pygments_lexer": "ipython3",
   "version": "3.9.12"
  }
 },
 "nbformat": 4,
 "nbformat_minor": 5
}
