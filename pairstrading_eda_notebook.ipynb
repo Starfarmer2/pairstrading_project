{
 "cells": [
  {
   "cell_type": "code",
   "execution_count": 3,
   "id": "2cd8fab8",
   "metadata": {},
   "outputs": [],
   "source": [
    "import requests\n",
    "import pandas as pd\n",
    "import numpy as np\n",
    "import seaborn\n",
    "import statsmodels.api as sm\n",
    "from scipy.optimize import minimize_scalar"
   ]
  },
  {
   "cell_type": "code",
   "execution_count": 4,
   "id": "29052395",
   "metadata": {},
   "outputs": [],
   "source": [
    "url = 'https://data.binance.com'\n",
    "klines_url = '/api/v3/klines'\n",
    "time_url = '/api/v3/time'"
   ]
  },
  {
   "cell_type": "code",
   "execution_count": 41,
   "id": "9b5ef3ca",
   "metadata": {},
   "outputs": [],
   "source": [
    "symbol1 = 'BTCUSDT'\n",
    "symbol2 = 'ETHUSDT'\n",
    "interval = '1m'  #HOURLY\n",
    "limit = 1000\n"
   ]
  },
  {
   "cell_type": "code",
   "execution_count": 42,
   "id": "dd7296fd",
   "metadata": {},
   "outputs": [],
   "source": [
    "params1 = {'symbol': symbol1, 'interval': interval, 'limit': limit}\n",
    "params2 = {'symbol': symbol2, 'interval': interval, 'limit': limit}\n",
    "\n",
    "# kline data format\n",
    "#   [\n",
    "#     1499040000000,      // Kline open time\n",
    "#     \"0.01634790\",       // Open price\n",
    "#     \"0.80000000\",       // High price\n",
    "#     \"0.01575800\",       // Low price\n",
    "#     \"0.01577100\",       // Close price\n",
    "#     \"148976.11427815\",  // Volume\n",
    "#     1499644799999,      // Kline Close time\n",
    "#     \"2434.19055334\",    // Quote asset volume\n",
    "#     308,                // Number of trades\n",
    "#     \"1756.87402397\",    // Taker buy base asset volume\n",
    "#     \"28.46694368\",      // Taker buy quote asset volume\n",
    "#     \"0\"                 // Unused field, ignore.\n",
    "#   ]\n",
    "\n",
    "klines1 = requests.get(url+klines_url, params1).json()\n",
    "klines2 = requests.get(url+klines_url, params2).json()"
   ]
  },
  {
   "cell_type": "code",
   "execution_count": null,
   "id": "e804c66e",
   "metadata": {},
   "outputs": [],
   "source": []
  },
  {
   "cell_type": "code",
   "execution_count": 43,
   "id": "058ac31d",
   "metadata": {},
   "outputs": [],
   "source": [
    "klines_df1 = pd.DataFrame(np.array(klines1), columns=['open_time','open_price','high_price','low_price','close_price','volume','close_time','quote_asset_volume','number_of_trades','taker_buy_base_asset_volume','taker_buy_quote_asset_volume','unused'])\n",
    "klines_df2 = pd.DataFrame(np.array(klines2), columns=['open_time','open_price','high_price','low_price','close_price','volume','close_time','quote_asset_volume','number_of_trades','taker_buy_base_asset_volume','taker_buy_quote_asset_volume','unused'])\n",
    "\n",
    "\n"
   ]
  },
  {
   "cell_type": "code",
   "execution_count": null,
   "id": "d9d19f2c",
   "metadata": {},
   "outputs": [],
   "source": []
  },
  {
   "cell_type": "code",
   "execution_count": 44,
   "id": "ae1da2bd",
   "metadata": {},
   "outputs": [
    {
     "data": {
      "text/html": [
       "<div>\n",
       "<style scoped>\n",
       "    .dataframe tbody tr th:only-of-type {\n",
       "        vertical-align: middle;\n",
       "    }\n",
       "\n",
       "    .dataframe tbody tr th {\n",
       "        vertical-align: top;\n",
       "    }\n",
       "\n",
       "    .dataframe thead th {\n",
       "        text-align: right;\n",
       "    }\n",
       "</style>\n",
       "<table border=\"1\" class=\"dataframe\">\n",
       "  <thead>\n",
       "    <tr style=\"text-align: right;\">\n",
       "      <th></th>\n",
       "      <th>open_time</th>\n",
       "      <th>open_price</th>\n",
       "      <th>high_price</th>\n",
       "      <th>low_price</th>\n",
       "      <th>close_price</th>\n",
       "      <th>volume</th>\n",
       "      <th>close_time</th>\n",
       "      <th>quote_asset_volume</th>\n",
       "      <th>number_of_trades</th>\n",
       "      <th>taker_buy_base_asset_volume</th>\n",
       "      <th>taker_buy_quote_asset_volume</th>\n",
       "      <th>unused</th>\n",
       "    </tr>\n",
       "  </thead>\n",
       "  <tbody>\n",
       "    <tr>\n",
       "      <th>0</th>\n",
       "      <td>1680837900000</td>\n",
       "      <td>27988.53000000</td>\n",
       "      <td>27993.42000000</td>\n",
       "      <td>27988.53000000</td>\n",
       "      <td>27992.45000000</td>\n",
       "      <td>12.59340000</td>\n",
       "      <td>1680837959999</td>\n",
       "      <td>352505.19576740</td>\n",
       "      <td>379</td>\n",
       "      <td>6.22204000</td>\n",
       "      <td>174157.86545330</td>\n",
       "      <td>0</td>\n",
       "    </tr>\n",
       "    <tr>\n",
       "      <th>1</th>\n",
       "      <td>1680837960000</td>\n",
       "      <td>27992.46000000</td>\n",
       "      <td>27992.46000000</td>\n",
       "      <td>27992.45000000</td>\n",
       "      <td>27992.46000000</td>\n",
       "      <td>3.08687000</td>\n",
       "      <td>1680838019999</td>\n",
       "      <td>86409.07820390</td>\n",
       "      <td>168</td>\n",
       "      <td>2.40724000</td>\n",
       "      <td>67384.56941040</td>\n",
       "      <td>0</td>\n",
       "    </tr>\n",
       "    <tr>\n",
       "      <th>2</th>\n",
       "      <td>1680838020000</td>\n",
       "      <td>27992.45000000</td>\n",
       "      <td>27992.46000000</td>\n",
       "      <td>27990.99000000</td>\n",
       "      <td>27991.00000000</td>\n",
       "      <td>10.47190000</td>\n",
       "      <td>1680838079999</td>\n",
       "      <td>293123.92512650</td>\n",
       "      <td>298</td>\n",
       "      <td>3.66013000</td>\n",
       "      <td>102451.61518100</td>\n",
       "      <td>0</td>\n",
       "    </tr>\n",
       "    <tr>\n",
       "      <th>3</th>\n",
       "      <td>1680838080000</td>\n",
       "      <td>27990.99000000</td>\n",
       "      <td>27991.00000000</td>\n",
       "      <td>27985.76000000</td>\n",
       "      <td>27985.76000000</td>\n",
       "      <td>5.86931000</td>\n",
       "      <td>1680838139999</td>\n",
       "      <td>164273.59429920</td>\n",
       "      <td>397</td>\n",
       "      <td>2.27466000</td>\n",
       "      <td>63663.59830160</td>\n",
       "      <td>0</td>\n",
       "    </tr>\n",
       "    <tr>\n",
       "      <th>4</th>\n",
       "      <td>1680838140000</td>\n",
       "      <td>27985.77000000</td>\n",
       "      <td>27988.80000000</td>\n",
       "      <td>27985.10000000</td>\n",
       "      <td>27988.79000000</td>\n",
       "      <td>8.92163000</td>\n",
       "      <td>1680838199999</td>\n",
       "      <td>249678.59058100</td>\n",
       "      <td>380</td>\n",
       "      <td>6.11743000</td>\n",
       "      <td>171201.62361850</td>\n",
       "      <td>0</td>\n",
       "    </tr>\n",
       "    <tr>\n",
       "      <th>...</th>\n",
       "      <td>...</td>\n",
       "      <td>...</td>\n",
       "      <td>...</td>\n",
       "      <td>...</td>\n",
       "      <td>...</td>\n",
       "      <td>...</td>\n",
       "      <td>...</td>\n",
       "      <td>...</td>\n",
       "      <td>...</td>\n",
       "      <td>...</td>\n",
       "      <td>...</td>\n",
       "      <td>...</td>\n",
       "    </tr>\n",
       "    <tr>\n",
       "      <th>995</th>\n",
       "      <td>1680897600000</td>\n",
       "      <td>27897.51000000</td>\n",
       "      <td>27897.52000000</td>\n",
       "      <td>27897.51000000</td>\n",
       "      <td>27897.51000000</td>\n",
       "      <td>4.54094000</td>\n",
       "      <td>1680897659999</td>\n",
       "      <td>126680.95618110</td>\n",
       "      <td>288</td>\n",
       "      <td>3.71217000</td>\n",
       "      <td>103560.33681840</td>\n",
       "      <td>0</td>\n",
       "    </tr>\n",
       "    <tr>\n",
       "      <th>996</th>\n",
       "      <td>1680897660000</td>\n",
       "      <td>27897.52000000</td>\n",
       "      <td>27898.48000000</td>\n",
       "      <td>27897.51000000</td>\n",
       "      <td>27898.48000000</td>\n",
       "      <td>3.17260000</td>\n",
       "      <td>1680897719999</td>\n",
       "      <td>88510.08291610</td>\n",
       "      <td>220</td>\n",
       "      <td>2.44732000</td>\n",
       "      <td>68275.99296660</td>\n",
       "      <td>0</td>\n",
       "    </tr>\n",
       "    <tr>\n",
       "      <th>997</th>\n",
       "      <td>1680897720000</td>\n",
       "      <td>27898.47000000</td>\n",
       "      <td>27898.49000000</td>\n",
       "      <td>27898.47000000</td>\n",
       "      <td>27898.48000000</td>\n",
       "      <td>6.68271000</td>\n",
       "      <td>1680897779999</td>\n",
       "      <td>186437.45814880</td>\n",
       "      <td>262</td>\n",
       "      <td>3.89493000</td>\n",
       "      <td>108662.64389030</td>\n",
       "      <td>0</td>\n",
       "    </tr>\n",
       "    <tr>\n",
       "      <th>998</th>\n",
       "      <td>1680897780000</td>\n",
       "      <td>27898.48000000</td>\n",
       "      <td>27905.98000000</td>\n",
       "      <td>27898.48000000</td>\n",
       "      <td>27905.97000000</td>\n",
       "      <td>7.13587000</td>\n",
       "      <td>1680897839999</td>\n",
       "      <td>199096.52926500</td>\n",
       "      <td>403</td>\n",
       "      <td>5.22503000</td>\n",
       "      <td>145782.68205140</td>\n",
       "      <td>0</td>\n",
       "    </tr>\n",
       "    <tr>\n",
       "      <th>999</th>\n",
       "      <td>1680897840000</td>\n",
       "      <td>27905.98000000</td>\n",
       "      <td>27906.36000000</td>\n",
       "      <td>27905.97000000</td>\n",
       "      <td>27906.36000000</td>\n",
       "      <td>2.72114000</td>\n",
       "      <td>1680897899999</td>\n",
       "      <td>75936.37256780</td>\n",
       "      <td>161</td>\n",
       "      <td>2.34498000</td>\n",
       "      <td>65439.25395370</td>\n",
       "      <td>0</td>\n",
       "    </tr>\n",
       "  </tbody>\n",
       "</table>\n",
       "<p>1000 rows × 12 columns</p>\n",
       "</div>"
      ],
      "text/plain": [
       "         open_time      open_price      high_price       low_price  \\\n",
       "0    1680837900000  27988.53000000  27993.42000000  27988.53000000   \n",
       "1    1680837960000  27992.46000000  27992.46000000  27992.45000000   \n",
       "2    1680838020000  27992.45000000  27992.46000000  27990.99000000   \n",
       "3    1680838080000  27990.99000000  27991.00000000  27985.76000000   \n",
       "4    1680838140000  27985.77000000  27988.80000000  27985.10000000   \n",
       "..             ...             ...             ...             ...   \n",
       "995  1680897600000  27897.51000000  27897.52000000  27897.51000000   \n",
       "996  1680897660000  27897.52000000  27898.48000000  27897.51000000   \n",
       "997  1680897720000  27898.47000000  27898.49000000  27898.47000000   \n",
       "998  1680897780000  27898.48000000  27905.98000000  27898.48000000   \n",
       "999  1680897840000  27905.98000000  27906.36000000  27905.97000000   \n",
       "\n",
       "        close_price       volume     close_time quote_asset_volume  \\\n",
       "0    27992.45000000  12.59340000  1680837959999    352505.19576740   \n",
       "1    27992.46000000   3.08687000  1680838019999     86409.07820390   \n",
       "2    27991.00000000  10.47190000  1680838079999    293123.92512650   \n",
       "3    27985.76000000   5.86931000  1680838139999    164273.59429920   \n",
       "4    27988.79000000   8.92163000  1680838199999    249678.59058100   \n",
       "..              ...          ...            ...                ...   \n",
       "995  27897.51000000   4.54094000  1680897659999    126680.95618110   \n",
       "996  27898.48000000   3.17260000  1680897719999     88510.08291610   \n",
       "997  27898.48000000   6.68271000  1680897779999    186437.45814880   \n",
       "998  27905.97000000   7.13587000  1680897839999    199096.52926500   \n",
       "999  27906.36000000   2.72114000  1680897899999     75936.37256780   \n",
       "\n",
       "    number_of_trades taker_buy_base_asset_volume taker_buy_quote_asset_volume  \\\n",
       "0                379                  6.22204000              174157.86545330   \n",
       "1                168                  2.40724000               67384.56941040   \n",
       "2                298                  3.66013000              102451.61518100   \n",
       "3                397                  2.27466000               63663.59830160   \n",
       "4                380                  6.11743000              171201.62361850   \n",
       "..               ...                         ...                          ...   \n",
       "995              288                  3.71217000              103560.33681840   \n",
       "996              220                  2.44732000               68275.99296660   \n",
       "997              262                  3.89493000              108662.64389030   \n",
       "998              403                  5.22503000              145782.68205140   \n",
       "999              161                  2.34498000               65439.25395370   \n",
       "\n",
       "    unused  \n",
       "0        0  \n",
       "1        0  \n",
       "2        0  \n",
       "3        0  \n",
       "4        0  \n",
       "..     ...  \n",
       "995      0  \n",
       "996      0  \n",
       "997      0  \n",
       "998      0  \n",
       "999      0  \n",
       "\n",
       "[1000 rows x 12 columns]"
      ]
     },
     "execution_count": 44,
     "metadata": {},
     "output_type": "execute_result"
    }
   ],
   "source": [
    "klines_df_f1 = pd.DataFrame(klines_df1,dtype='float64')\n",
    "klines_df_f2 = pd.DataFrame(klines_df2,dtype='float64')\n",
    "klines_df1"
   ]
  },
  {
   "cell_type": "code",
   "execution_count": 45,
   "id": "5f18403a",
   "metadata": {},
   "outputs": [
    {
     "data": {
      "text/plain": [
       "0     -0.000075\n",
       "1     -0.000005\n",
       "2      0.000000\n",
       "3     -0.000352\n",
       "4      0.000181\n",
       "         ...   \n",
       "995   -0.000016\n",
       "996    0.000135\n",
       "997   -0.000264\n",
       "998    0.000663\n",
       "999    0.000102\n",
       "Name: return, Length: 1000, dtype: float64"
      ]
     },
     "execution_count": 45,
     "metadata": {},
     "output_type": "execute_result"
    }
   ],
   "source": [
    "klines_df_f1['return'] = (klines_df_f1['close_price']-klines_df_f1['open_price'])/klines_df_f1['open_price']\n",
    "klines_df_f1['return_next'] = klines_df_f1['return'].shift(-1)\n",
    "klines_df_f1['open_time_year'] = klines_df_f1['open_time']/1000/3600/24/365\n",
    "klines_df_f1['return']\n",
    "\n",
    "klines_df_f2['return'] = (klines_df_f2['close_price']-klines_df_f2['open_price'])/klines_df_f2['open_price']\n",
    "klines_df_f2['return_next'] = klines_df_f2['return'].shift(-1)\n",
    "klines_df_f2['open_time_year'] = klines_df_f2['open_time']/1000/3600/24/365\n",
    "klines_df_f2['return']"
   ]
  },
  {
   "cell_type": "code",
   "execution_count": 46,
   "id": "d0582e93",
   "metadata": {},
   "outputs": [
    {
     "data": {
      "text/html": [
       "<div>\n",
       "<style scoped>\n",
       "    .dataframe tbody tr th:only-of-type {\n",
       "        vertical-align: middle;\n",
       "    }\n",
       "\n",
       "    .dataframe tbody tr th {\n",
       "        vertical-align: top;\n",
       "    }\n",
       "\n",
       "    .dataframe thead th {\n",
       "        text-align: right;\n",
       "    }\n",
       "</style>\n",
       "<table border=\"1\" class=\"dataframe\">\n",
       "  <thead>\n",
       "    <tr style=\"text-align: right;\">\n",
       "      <th></th>\n",
       "      <th>btc</th>\n",
       "      <th>eth</th>\n",
       "    </tr>\n",
       "  </thead>\n",
       "  <tbody>\n",
       "    <tr>\n",
       "      <th>0</th>\n",
       "      <td>1.400574e-04</td>\n",
       "      <td>-0.000075</td>\n",
       "    </tr>\n",
       "    <tr>\n",
       "      <th>1</th>\n",
       "      <td>0.000000e+00</td>\n",
       "      <td>-0.000005</td>\n",
       "    </tr>\n",
       "    <tr>\n",
       "      <th>2</th>\n",
       "      <td>-5.179968e-05</td>\n",
       "      <td>0.000000</td>\n",
       "    </tr>\n",
       "    <tr>\n",
       "      <th>3</th>\n",
       "      <td>-1.868458e-04</td>\n",
       "      <td>-0.000352</td>\n",
       "    </tr>\n",
       "    <tr>\n",
       "      <th>4</th>\n",
       "      <td>1.079120e-04</td>\n",
       "      <td>0.000181</td>\n",
       "    </tr>\n",
       "    <tr>\n",
       "      <th>...</th>\n",
       "      <td>...</td>\n",
       "      <td>...</td>\n",
       "    </tr>\n",
       "    <tr>\n",
       "      <th>995</th>\n",
       "      <td>0.000000e+00</td>\n",
       "      <td>-0.000016</td>\n",
       "    </tr>\n",
       "    <tr>\n",
       "      <th>996</th>\n",
       "      <td>3.441166e-05</td>\n",
       "      <td>0.000135</td>\n",
       "    </tr>\n",
       "    <tr>\n",
       "      <th>997</th>\n",
       "      <td>3.584426e-07</td>\n",
       "      <td>-0.000264</td>\n",
       "    </tr>\n",
       "    <tr>\n",
       "      <th>998</th>\n",
       "      <td>2.684734e-04</td>\n",
       "      <td>0.000663</td>\n",
       "    </tr>\n",
       "    <tr>\n",
       "      <th>999</th>\n",
       "      <td>1.361715e-05</td>\n",
       "      <td>0.000102</td>\n",
       "    </tr>\n",
       "  </tbody>\n",
       "</table>\n",
       "<p>1000 rows × 2 columns</p>\n",
       "</div>"
      ],
      "text/plain": [
       "              btc       eth\n",
       "0    1.400574e-04 -0.000075\n",
       "1    0.000000e+00 -0.000005\n",
       "2   -5.179968e-05  0.000000\n",
       "3   -1.868458e-04 -0.000352\n",
       "4    1.079120e-04  0.000181\n",
       "..            ...       ...\n",
       "995  0.000000e+00 -0.000016\n",
       "996  3.441166e-05  0.000135\n",
       "997  3.584426e-07 -0.000264\n",
       "998  2.684734e-04  0.000663\n",
       "999  1.361715e-05  0.000102\n",
       "\n",
       "[1000 rows x 2 columns]"
      ]
     },
     "execution_count": 46,
     "metadata": {},
     "output_type": "execute_result"
    }
   ],
   "source": [
    "returns_df = pd.DataFrame(np.array([klines_df_f1['return'],klines_df_f2['return']]).transpose(),columns=['btc','eth'])\n",
    "returns_df"
   ]
  },
  {
   "cell_type": "code",
   "execution_count": 47,
   "id": "b1d5f022",
   "metadata": {},
   "outputs": [
    {
     "data": {
      "text/plain": [
       "<AxesSubplot:xlabel='btc', ylabel='eth'>"
      ]
     },
     "execution_count": 47,
     "metadata": {},
     "output_type": "execute_result"
    },
    {
     "data": {
      "image/png": "[encoded data removed]",
      "text/plain": [
       "<Figure size 640x480 with 1 Axes>"
      ]
     },
     "metadata": {},
     "output_type": "display_data"
    }
   ],
   "source": [
    "seaborn.scatterplot(data=returns_df,x='btc',y='eth',s=5,color='b')"
   ]
  },
  {
   "cell_type": "code",
   "execution_count": 48,
   "id": "ca0db201",
   "metadata": {},
   "outputs": [
    {
     "data": {
      "text/plain": [
       "<AxesSubplot:xlabel='return', ylabel='return_next'>"
      ]
     },
     "execution_count": 48,
     "metadata": {},
     "output_type": "execute_result"
    },
    {
     "data": {
      "image/png": "[encoded data removed]",
      "text/plain": [
       "<Figure size 640x480 with 1 Axes>"
      ]
     },
     "metadata": {},
     "output_type": "display_data"
    }
   ],
   "source": [
    "seaborn.scatterplot(data=klines_df_f2,x='return',y='return_next',s=5,color='b')"
   ]
  },
  {
   "cell_type": "code",
   "execution_count": 49,
   "id": "c1a2099c",
   "metadata": {},
   "outputs": [
    {
     "data": {
      "text/plain": [
       "(-2.600899021896514,\n",
       " 0.09281160022086588,\n",
       " 11,\n",
       " 988,\n",
       " {'1%': -3.4369860032923145,\n",
       "  '5%': -2.8644697838498376,\n",
       "  '10%': -2.5683299626694422},\n",
       " 7254.448138517151)"
      ]
     },
     "execution_count": 49,
     "metadata": {},
     "output_type": "execute_result"
    }
   ],
   "source": [
    "# f1 price nonstationary\n",
    "sm.tsa.stattools.adfuller(klines_df_f1['open_price'])"
   ]
  },
  {
   "cell_type": "code",
   "execution_count": 50,
   "id": "543db73d",
   "metadata": {},
   "outputs": [
    {
     "data": {
      "text/plain": [
       "(-1.9727663422954116,\n",
       " 0.2986402609120328,\n",
       " 6,\n",
       " 993,\n",
       " {'1%': -3.4369525024039884,\n",
       "  '5%': -2.8644550095200705,\n",
       "  '10%': -2.568322093455802},\n",
       " 2588.2473626549377)"
      ]
     },
     "execution_count": 50,
     "metadata": {},
     "output_type": "execute_result"
    }
   ],
   "source": [
    "# f2 price nonstationary\n",
    "sm.tsa.stattools.adfuller(klines_df_f2['open_price'])"
   ]
  },
  {
   "cell_type": "code",
   "execution_count": 51,
   "id": "f42c842f",
   "metadata": {},
   "outputs": [
    {
     "data": {
      "text/plain": [
       "(-9.803885167810979,\n",
       " 5.896043318189511e-17,\n",
       " 10,\n",
       " 989,\n",
       " {'1%': -3.436979275944879,\n",
       "  '5%': -2.8644668170148058,\n",
       "  '10%': -2.5683283824496153},\n",
       " -12740.515810112533)"
      ]
     },
     "execution_count": 51,
     "metadata": {},
     "output_type": "execute_result"
    }
   ],
   "source": [
    "# f1 return stationary\n",
    "sm.tsa.stattools.adfuller(klines_df_f1['return'])"
   ]
  },
  {
   "cell_type": "code",
   "execution_count": 52,
   "id": "73b8020b",
   "metadata": {},
   "outputs": [
    {
     "data": {
      "text/plain": [
       "(-14.423459024342298,\n",
       " 7.842262043267311e-27,\n",
       " 5,\n",
       " 994,\n",
       " {'1%': -3.43694584277544,\n",
       "  '5%': -2.8644520725172873,\n",
       "  '10%': -2.5683205291305176},\n",
       " -12118.327522418344)"
      ]
     },
     "execution_count": 52,
     "metadata": {},
     "output_type": "execute_result"
    }
   ],
   "source": [
    "# f2 return stationary\n",
    "sm.tsa.stattools.adfuller(klines_df_f2['return'])"
   ]
  },
  {
   "cell_type": "code",
   "execution_count": 53,
   "id": "cef20276",
   "metadata": {},
   "outputs": [
    {
     "ename": "NameError",
     "evalue": "name 'statsmodels' is not defined",
     "output_type": "error",
     "traceback": [
      "\u001b[0;31m---------------------------------------------------------------------------\u001b[0m",
      "\u001b[0;31mNameError\u001b[0m                                 Traceback (most recent call last)",
      "Cell \u001b[0;32mIn [53], line 2\u001b[0m\n\u001b[1;32m      1\u001b[0m \u001b[38;5;66;03m# Johansen test\u001b[39;00m\n\u001b[0;32m----> 2\u001b[0m jt \u001b[38;5;241m=\u001b[39m statsmodels\u001b[38;5;241m.\u001b[39mtsa\u001b[38;5;241m.\u001b[39mvector_ar\u001b[38;5;241m.\u001b[39mvecm\u001b[38;5;241m.\u001b[39mcoint_johansen(np\u001b[38;5;241m.\u001b[39marray([klines_df_f1[\u001b[38;5;124m'\u001b[39m\u001b[38;5;124mopen_price\u001b[39m\u001b[38;5;124m'\u001b[39m],klines_df_f2[\u001b[38;5;124m'\u001b[39m\u001b[38;5;124mopen_price\u001b[39m\u001b[38;5;124m'\u001b[39m]])\u001b[38;5;241m.\u001b[39mtranspose(),det_order\u001b[38;5;241m=\u001b[39m\u001b[38;5;241m0\u001b[39m,k_ar_diff\u001b[38;5;241m=\u001b[39m\u001b[38;5;241m1\u001b[39m)\n\u001b[1;32m      3\u001b[0m \u001b[38;5;28mprint\u001b[39m(\u001b[38;5;124mf\u001b[39m\u001b[38;5;124m'\u001b[39m\u001b[38;5;124mCritical Value Eigen: \u001b[39m\u001b[38;5;130;01m\\n\u001b[39;00m\u001b[38;5;132;01m{\u001b[39;00mjt\u001b[38;5;241m.\u001b[39mcvm\u001b[38;5;132;01m}\u001b[39;00m\u001b[38;5;130;01m\\n\u001b[39;00m\u001b[38;5;124mCritical Value Trace: \u001b[39m\u001b[38;5;130;01m\\n\u001b[39;00m\u001b[38;5;132;01m{\u001b[39;00mjt\u001b[38;5;241m.\u001b[39mcvt\u001b[38;5;132;01m}\u001b[39;00m\u001b[38;5;130;01m\\n\u001b[39;00m\u001b[38;5;124m'\u001b[39m)\n\u001b[1;32m      4\u001b[0m \u001b[38;5;28mprint\u001b[39m(\u001b[38;5;124mf\u001b[39m\u001b[38;5;124m'\u001b[39m\u001b[38;5;124mtrace stats: \u001b[39m\u001b[38;5;130;01m\\n\u001b[39;00m\u001b[38;5;132;01m{\u001b[39;00mjt\u001b[38;5;241m.\u001b[39mtrace_stat\u001b[38;5;132;01m}\u001b[39;00m\u001b[38;5;124m'\u001b[39m)\n",
      "\u001b[0;31mNameError\u001b[0m: name 'statsmodels' is not defined"
     ]
    }
   ],
   "source": [
    "# Johansen test\n",
    "jt = statsmodels.tsa.vector_ar.vecm.coint_johansen(np.array([klines_df_f1['open_price'],klines_df_f2['open_price']]).transpose(),det_order=0,k_ar_diff=1)\n",
    "print(f'Critical Value Eigen: \\n{jt.cvm}\\nCritical Value Trace: \\n{jt.cvt}\\n')\n",
    "print(f'trace stats: \\n{jt.trace_stat}')\n",
    "                                              "
   ]
  },
  {
   "cell_type": "code",
   "execution_count": 54,
   "id": "c0e0fa13",
   "metadata": {},
   "outputs": [],
   "source": [
    "# Spread\n",
    "df_p1 = klines_df_f1['open_price']\n",
    "df_p2 = klines_df_f2['open_price']\n",
    "\n",
    "def spread(p1, p2, n):\n",
    "    psum = p1-p2*n\n",
    "    return np.dot(psum,psum)"
   ]
  },
  {
   "cell_type": "code",
   "execution_count": 55,
   "id": "568c59ea",
   "metadata": {},
   "outputs": [
    {
     "data": {
      "text/plain": [
       "     fun: 5577980.558727992\n",
       " message: '\\nOptimization terminated successfully;\\nThe returned value satisfies the termination criteria\\n(using xtol = 1.48e-08 )'\n",
       "    nfev: 10\n",
       "     nit: 4\n",
       " success: True\n",
       "       x: 15.015526865273591"
      ]
     },
     "execution_count": 55,
     "metadata": {},
     "output_type": "execute_result"
    }
   ],
   "source": [
    "scalar_results = minimize_scalar(lambda n: spread(df_p1,df_p2, n))\n",
    "N = scalar_results.x\n",
    "scalar_results"
   ]
  },
  {
   "cell_type": "code",
   "execution_count": 56,
   "id": "37f93e48",
   "metadata": {},
   "outputs": [
    {
     "data": {
      "text/plain": [
       "<AxesSubplot:xlabel='open_time', ylabel='price'>"
      ]
     },
     "execution_count": 56,
     "metadata": {},
     "output_type": "execute_result"
    },
    {
     "data": {
      "image/png": "[encoded data removed]",
      "text/plain": [
       "<Figure size 640x480 with 1 Axes>"
      ]
     },
     "metadata": {},
     "output_type": "display_data"
    }
   ],
   "source": [
    "graph_df = pd.DataFrame(np.array([klines_df_f1['open_time'],klines_df_f1['open_price'] - N * klines_df_f2['open_price']]).transpose(),columns = ['open_time','price'])\n",
    "seaborn.scatterplot(data=graph_df,x='open_time',y='price',s=5,color='b')\n",
    "\n"
   ]
  },
  {
   "cell_type": "code",
   "execution_count": 21,
   "id": "c3f50130",
   "metadata": {},
   "outputs": [
    {
     "data": {
      "text/plain": [
       "<AxesSubplot:xlabel='open_time', ylabel='open_price'>"
      ]
     },
     "execution_count": 21,
     "metadata": {},
     "output_type": "execute_result"
    },
    {
     "data": {
      "image/png": "[encoded data removed]",
      "text/plain": [
       "<Figure size 640x480 with 1 Axes>"
      ]
     },
     "metadata": {},
     "output_type": "display_data"
    }
   ],
   "source": [
    "seaborn.scatterplot(data=klines_df_f1,x='open_time',y='open_price',s=5,color='b')\n",
    "scaled_klines_df_f2 = klines_df_f2.copy()\n",
    "scaled_klines_df_f2['open_price'] = klines_df_f2['open_price'] * N\n",
    "seaborn.scatterplot(data=scaled_klines_df_f2,x='open_time',y='open_price',s=5,color='r')\n"
   ]
  },
  {
   "cell_type": "code",
   "execution_count": 182,
   "id": "e9171fba",
   "metadata": {},
   "outputs": [
    {
     "data": {
      "text/plain": [
       "0      28069.00\n",
       "1      28055.27\n",
       "2      28039.50\n",
       "3      28054.93\n",
       "4      28054.92\n",
       "         ...   \n",
       "995    28005.90\n",
       "996    28005.75\n",
       "997    28005.31\n",
       "998    28005.70\n",
       "999    28005.70\n",
       "Name: open_price, Length: 1000, dtype: float64"
      ]
     },
     "execution_count": 182,
     "metadata": {},
     "output_type": "execute_result"
    }
   ],
   "source": [
    "klines_df_f1['open_price']"
   ]
  },
  {
   "cell_type": "code",
   "execution_count": 183,
   "id": "3020bd80",
   "metadata": {},
   "outputs": [
    {
     "data": {
      "text/plain": [
       "0      1892.20\n",
       "1      1891.74\n",
       "2      1891.26\n",
       "3      1892.27\n",
       "4      1892.43\n",
       "        ...   \n",
       "995    1871.47\n",
       "996    1870.80\n",
       "997    1871.29\n",
       "998    1871.69\n",
       "999    1871.50\n",
       "Name: open_price, Length: 1000, dtype: float64"
      ]
     },
     "execution_count": 183,
     "metadata": {},
     "output_type": "execute_result"
    }
   ],
   "source": [
    "klines_df_f2['open_price']"
   ]
  },
  {
   "cell_type": "code",
   "execution_count": null,
   "id": "011d6655",
   "metadata": {},
   "outputs": [],
   "source": []
  }
 ],
 "metadata": {
  "kernelspec": {
   "display_name": "Python 3 (ipykernel)",
   "language": "python",
   "name": "python3"
  },
  "language_info": {
   "codemirror_mode": {
    "name": "ipython",
    "version": 3
   },
   "file_extension": ".py",
   "mimetype": "text/x-python",
   "name": "python",
   "nbconvert_exporter": "python",
   "pygments_lexer": "ipython3",
   "version": "3.9.12"
  }
 },
 "nbformat": 4,
 "nbformat_minor": 5
}
